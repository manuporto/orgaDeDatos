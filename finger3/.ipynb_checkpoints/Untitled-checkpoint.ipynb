{
 "cells": [
  {
   "cell_type": "code",
   "execution_count": 72,
   "metadata": {
    "collapsed": true
   },
   "outputs": [],
   "source": [
    "input = sc.textFile('data/gc_100_1')\n",
    "header = input.take(1)[0]\n",
    "rows = input.filter(lambda line: line != header)\n",
    "graph = rows.map(lambda x: x.split())"
   ]
  },
  {
   "cell_type": "code",
   "execution_count": 73,
   "metadata": {
    "collapsed": false
   },
   "outputs": [
    {
     "name": "stdout",
     "output_type": "stream",
     "text": [
      "100 3427\n",
      "[[u'0', u'2'], [u'0', u'3'], [u'0', u'5'], [u'0', u'6'], [u'0', u'7']]\n"
     ]
    }
   ],
   "source": [
    "print(header)\n",
    "print(graph.take(5))"
   ]
  },
  {
   "cell_type": "code",
   "execution_count": 74,
   "metadata": {
    "collapsed": false
   },
   "outputs": [
    {
     "name": "stdout",
     "output_type": "stream",
     "text": [
      "[(u'0', 1), (u'2', 1), (u'0', 1), (u'3', 1), (u'0', 1)]\n"
     ]
    }
   ],
   "source": [
    "degree = graph.flatMap(lambda x: x)\n",
    "degree = degree.map(lambda x: (x, 1))\n",
    "print(degree.take(5))"
   ]
  },
  {
   "cell_type": "code",
   "execution_count": 75,
   "metadata": {
    "collapsed": false
   },
   "outputs": [
    {
     "name": "stdout",
     "output_type": "stream",
     "text": [
      "('The graph degree is', [(u'74', 79)])\n"
     ]
    }
   ],
   "source": [
    "from operator import add\n",
    "degree = degree.reduceByKey(add)\n",
    "print('The graph degree is', degree.top(1, key = lambda x: x[1]))"
   ]
  },
  {
   "cell_type": "code",
   "execution_count": 83,
   "metadata": {
    "collapsed": false
   },
   "outputs": [
    {
     "name": "stdout",
     "output_type": "stream",
     "text": [
      "[(u'42', [u'43', u'46', u'47', u'48', u'50', u'51', u'52', u'53', u'54', u'55', u'56', u'58', u'59', u'60', u'61', u'63', u'64', u'66', u'68', u'69', u'70', u'71', u'73', u'74', u'75', u'76', u'77', u'79', u'80', u'82', u'84', u'85', u'86', u'87', u'88', u'90', u'91', u'92', u'94', u'96', u'97', u'99'])]\n"
     ]
    }
   ],
   "source": [
    "colors = graph.map(lambda x: (x[0],[x[1]]))\n",
    "colors = colors.reduceByKey(add)\n",
    "#colors = colors.reduceByKey(lambda x, y: x[1].extend(y[1]))\n",
    "print(colors.take(1))"
   ]
  },
  {
   "cell_type": "code",
   "execution_count": 93,
   "metadata": {
    "collapsed": false
   },
   "outputs": [
    {
     "name": "stdout",
     "output_type": "stream",
     "text": [
      "[(u'42', [u'43', u'46', u'47', u'48', u'50', u'51', u'52', u'53', u'54', u'55', u'56', u'58', u'59', u'60', u'61', u'63', u'64', u'66', u'68', u'69', u'70', u'71', u'73', u'74', u'75', u'76', u'77', u'79', u'80', u'82', u'84', u'85', u'86', u'87', u'88', u'90', u'91', u'92', u'94', u'96', u'97', u'99'])]\n"
     ]
    }
   ],
   "source": [
    "colors2 = graph.groupByKey().mapValues(list)\n",
    "print(colors2.take(1))"
   ]
  },
  {
   "cell_type": "code",
   "execution_count": null,
   "metadata": {
    "collapsed": true
   },
   "outputs": [],
   "source": []
  }
 ],
 "metadata": {
  "kernelspec": {
   "display_name": "pySpark",
   "language": "python",
   "name": "pyspark"
  },
  "language_info": {
   "codemirror_mode": {
    "name": "ipython",
    "version": 2
   },
   "file_extension": ".py",
   "mimetype": "text/x-python",
   "name": "python",
   "nbconvert_exporter": "python",
   "pygments_lexer": "ipython2",
   "version": "2.7.6"
  }
 },
 "nbformat": 4,
 "nbformat_minor": 1
}
