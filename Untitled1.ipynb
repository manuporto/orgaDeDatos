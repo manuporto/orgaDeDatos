{
 "cells": [
  {
   "cell_type": "code",
   "execution_count": 1,
   "metadata": {
    "collapsed": true
   },
   "outputs": [],
   "source": [
    "import numpy as np"
   ]
  },
  {
   "cell_type": "code",
   "execution_count": 74,
   "metadata": {
    "collapsed": false
   },
   "outputs": [
    {
     "data": {
      "text/plain": [
       "matrix([[ 0.35761589,  0.35761589,  0.35761589,  0.35761589],\n",
       "        [ 0.22516556,  0.22516556,  0.22516556,  0.22516556],\n",
       "        [ 0.24542267,  0.24542267,  0.24542267,  0.24542267],\n",
       "        [ 0.17179587,  0.17179587,  0.17179587,  0.17179587]])"
      ]
     },
     "execution_count": 74,
     "metadata": {},
     "output_type": "execute_result"
    }
   ],
   "source": [
    "# 2\n",
    "g = np.array([[0,   1, 0, 0],\n",
    "              [0.5, 0, 0, 0],\n",
    "              [0.5, 0, 0, 1],\n",
    "              [0,   0, 1, 0]])\n",
    "p = np.matrix([2/3, 1/3, 0, 0]).T\n",
    "r = np.array([0.25, 0.25, 0.25, 0.25])\n",
    "b = 0.7\n",
    "for i in range(1000):\n",
    "    r = b*np.dot(g,r) + (1-b)*p\n",
    "r"
   ]
  },
  {
   "cell_type": "code",
   "execution_count": 28,
   "metadata": {
    "collapsed": false
   },
   "outputs": [
    {
     "name": "stdout",
     "output_type": "stream",
     "text": [
      "[ 0.25  0.25  0.25  0.25]\n"
     ]
    },
    {
     "data": {
      "text/plain": [
       "array([ 0.23584906,  0.33962264,  0.23018868,  0.19433962])"
      ]
     },
     "execution_count": 28,
     "metadata": {},
     "output_type": "execute_result"
    }
   ],
   "source": [
    "# ejemplo libro\n",
    "a = np.array([[0, 0.5, 0, 0],\n",
    "             [0, 0, 1, 1],\n",
    "             [0.5, 0.5, 0, 0],\n",
    "             [0.5, 0 , 0, 0]])\n",
    "p = np.array([0.5, 0, 0, 0.5])\n",
    "#p = np.ones((4,4))\n",
    "#p = np.array([0.25, 0.25, 0.25, 0.25])\n",
    "r = np.array([0.25, 0.25, 0.25, 0.25])\n",
    "b = 0.8\n",
    "j = np.ones((2,2))\n",
    "print(r)\n",
    "for i in range(100):\n",
    "    r = b*np.dot(a,r) + (1-b)*p\n",
    "\n",
    "r"
   ]
  },
  {
   "cell_type": "code",
   "execution_count": 72,
   "metadata": {
    "collapsed": false
   },
   "outputs": [
    {
     "name": "stdout",
     "output_type": "stream",
     "text": [
      "[[ 0.14927735  0.14927735  0.14927735  0.14927735  0.14927735]\n",
      " [ 0.27447771  0.27447771  0.27447771  0.27447771  0.27447771]\n",
      " [ 0.21348379  0.21348379  0.21348379  0.21348379  0.21348379]\n",
      " [ 0.21348379  0.21348379  0.21348379  0.21348379  0.21348379]\n",
      " [ 0.14927735  0.14927735  0.14927735  0.14927735  0.14927735]]\n"
     ]
    }
   ],
   "source": [
    "# 4 y 5\n",
    "b = 0.8\n",
    "a = b*np.matrix([[0,   0,   0,   1/2, 1/5],\n",
    "              [1/3, 0,   1/2, 1/2, 1/5],\n",
    "              [1/3, 1/2, 0,   0,   1/5],\n",
    "              [1/3, 1/2, 0,   0,   1/5],\n",
    "              [0,   0,   1/2, 0,   1/5]])\n",
    "p = np.ones((5,5))\n",
    "#p = np.matrix([1, 0, 0, 0, 0]).T\n",
    "r = np.matrix([1/5, 1/5, 1/5, 1/5, 1/5]).T\n",
    "\n",
    "r_old = np.matrix([0,0,0,0,0]).T\n",
    "T = (1-b)*(1/5)*p\n",
    "while not np.allclose(r, r_old):\n",
    "    r_old = r\n",
    "    r = a*r + T\n",
    "print(r)"
   ]
  },
  {
   "cell_type": "code",
   "execution_count": 61,
   "metadata": {
    "collapsed": false
   },
   "outputs": [
    {
     "name": "stdout",
     "output_type": "stream",
     "text": [
      "[[ 0.07093409]\n",
      " [ 0.04196775]\n",
      " [ 0.04137783]\n",
      " [ 0.03124009]\n",
      " [ 0.01448236]]\n"
     ]
    }
   ],
   "source": [
    "# fran\n",
    "b = 0.7\n",
    "H = b * np.matrix([\n",
    "\t[0  , 0  , 0  , 1/2, 0  ],\n",
    "\t[1/3, 0  , 1/2, 1/2, 0  ],\n",
    "\t[1/3, 1/2, 0  , 0  , 1  ],\n",
    "\t[1/3, 1/2, 0  , 0  , 0  ],\n",
    "\t[0  , 0  , 1/2, 0  , 0  ]])\n",
    "\n",
    "# vector inicial\n",
    "v = np.matrix([1/5, 1/5, 1/5, 1/5, 1/5]).T\n",
    "\n",
    "# vector teletransportación que hace que todos caigan en A\n",
    "T = (1 - b) * (1/5) * np.matrix([1, 0, 0, 0, 0]).T\n",
    "\n",
    "v_old = np.matrix([0, 0, 0, 0, 0]).T\n",
    "while not np.allclose(v, v_old):\n",
    "\tv_old = v\n",
    "\tv = H * v + T\n",
    "\n",
    "print(v)"
   ]
  },
  {
   "cell_type": "code",
   "execution_count": 49,
   "metadata": {
    "collapsed": false
   },
   "outputs": [
    {
     "name": "stdout",
     "output_type": "stream",
     "text": [
      "[[ 1.25 ]\n",
      " [ 0.625]\n",
      " [ 1.125]]\n"
     ]
    }
   ],
   "source": [
    "# 6\n",
    "a = np.array([[0, 0, 1],\n",
    "             [1/2, 0, 0],\n",
    "             [1/2, 1, 0]])\n",
    "r = np.ones((3,1))\n",
    "for i in range(5):\n",
    "    r = np.dot(a,r)\n",
    "print(r)"
   ]
  },
  {
   "cell_type": "code",
   "execution_count": 70,
   "metadata": {
    "collapsed": false
   },
   "outputs": [
    {
     "name": "stdout",
     "output_type": "stream",
     "text": [
      "[[ 0.38779109]\n",
      " [ 0.21480957]\n",
      " [ 0.39739934]]\n",
      ".85c = b + .575a   ----> [[ 0.33778944]] = [[ 0.43778944]]\n",
      "b = .575a + .15c   ----> [[ 0.21480957]] = [[ 0.28258978]]\n",
      ".85a = c + .15b    ----> [[ 0.32962243]] = [[ 0.42962078]]\n",
      ".95c = .9b + .475a ----> [[ 0.37752938]] = [[ 0.37752938]]\n",
      "================\n",
      ".95a = .9c + .05b  ----> [[ 0.36840153]] = [[ 0.36839989]]\n",
      "c = .9b + .475a    ----> [[ 0.39739934]] = [[ 0.37752938]]\n",
      "c = b + .575a      ----> [[ 0.39739934]] = [[ 0.43778944]]\n",
      "a = .9c + .05b     ----> [[ 0.38779109]] = [[ 0.36839989]]\n"
     ]
    }
   ],
   "source": [
    "b = 0.85\n",
    "H = b * np.matrix([[0  , 0  , 1  ],\n",
    "                   [1/2, 0  , 0  ],\n",
    "                   [1/2, 1  , 0  ]])\n",
    "\n",
    "# matriz de teletransportación igual para todos (pagerank común)\n",
    "T = (1 - b) * np.matrix([[1/3, 1/3, 1/3],\n",
    "                         [1/3, 1/3, 1/3],\n",
    "                         [1/3, 1/3, 1/3]])\n",
    "\n",
    "M = H + T\n",
    "\n",
    "# vector inicial\n",
    "v = np.matrix([1/3, 1/3, 1/3]).T\n",
    "\n",
    "v_old = np.matrix([0, 0, 0]).T\n",
    "while not np.allclose(v, v_old):\n",
    "\tv_old = v\n",
    "\tv = M * v\n",
    "\n",
    "print(v)\n",
    "\n",
    "# [[ 0.38779109]\n",
    "#  [ 0.21480957]\n",
    "#  [ 0.39739934]]\n",
    "a = v[0][0]\n",
    "b = v[1][0]\n",
    "c = v[2][0]\n",
    "print(\".85c = b + .575a   ----> {} = {}\".format(0.85 * c, b + 0.575 * a))\n",
    "print(\"b = .575a + .15c   ----> {} = {}\".format(b, 0.575 * a + 0.15 * c))\n",
    "print(\".85a = c + .15b    ----> {} = {}\".format(0.85 * a, c + 0.15 * b))\n",
    "print(\".95c = .9b + .475a ----> {} = {}\".format(0.95 * c, 0.9 * b + 0.475 * a))\n",
    "print(\"================\")\n",
    "print(\".95a = .9c + .05b  ----> {} = {}\".format(0.95*a, 0.9*c + 0.05*b))\n",
    "print(\"c = .9b + .475a    ----> {} = {}\".format(c, 0.9*b + 0.475*a))\n",
    "print(\"c = b + .575a      ----> {} = {}\".format(c, b + 0.575*a))\n",
    "print(\"a = .9c + .05b     ----> {} = {}\".format(a, 0.9*c + 0.05*b))"
   ]
  },
  {
   "cell_type": "code",
   "execution_count": null,
   "metadata": {
    "collapsed": true
   },
   "outputs": [],
   "source": []
  }
 ],
 "metadata": {
  "kernelspec": {
   "display_name": "Python 3",
   "language": "python",
   "name": "python3"
  },
  "language_info": {
   "codemirror_mode": {
    "name": "ipython",
    "version": 3
   },
   "file_extension": ".py",
   "mimetype": "text/x-python",
   "name": "python",
   "nbconvert_exporter": "python",
   "pygments_lexer": "ipython3",
   "version": "3.4.3"
  }
 },
 "nbformat": 4,
 "nbformat_minor": 1
}
