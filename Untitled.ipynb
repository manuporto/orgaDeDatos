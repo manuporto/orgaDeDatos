{
 "cells": [
  {
   "cell_type": "code",
   "execution_count": 28,
   "metadata": {
    "collapsed": false
   },
   "outputs": [
    {
     "name": "stdout",
     "output_type": "stream",
     "text": [
      "[[(28, 145), (25, 125)], [(65, 140), (44, 105)], [(50, 130), (25, 125)], [(38, 115), (44, 105)], [(55, 118), (44, 105)], [(50, 90), (44, 105)], [(63, 88), (44, 105)], [(43, 83), (29, 97)], [(50, 60), (55, 63)], [(50, 30), (55, 20)]]\n",
      "{(55, 20): [(50, 30)], (25, 125): [(28, 145), (50, 130)], (44, 105): [(65, 140), (38, 115), (55, 118), (50, 90), (63, 88)], (55, 63): [(50, 60)], (29, 97): [(43, 83)]}\n"
     ]
    },
    {
     "data": {
      "text/plain": [
       "[(25.0, 15.0), (39.0, 137.5), (135.5, 275.5), (25.0, 30.0), (21.5, 41.5)]"
      ]
     },
     "execution_count": 28,
     "metadata": {},
     "output_type": "execute_result"
    }
   ],
   "source": [
    "points = [(28,145), (65,140), (50,130), (38,115), (55,118), (50,90), (63,88), (43,83), (50,60), (50,30)]\n",
    "centr = [(25,125), (44,105), (29,97), (35,63), (55,63), (42,57), (23,40), (64,37), (33,22), (55,20)]\n",
    "clusters = []\n",
    "\n",
    "for p in points:\n",
    "    clusters.append([p, min(centr, key=lambda c:((p[0]-c[0])**2 + (p[1]-c[1])**2)**0.5)])\n",
    "print(clusters)\n",
    "\n",
    "r_clus = {}\n",
    "for i in clusters:\n",
    "    if i[1] not in r_clus:\n",
    "        r_clus[i[1]] = [i[0]]\n",
    "    else:\n",
    "        r_clus[i[1]].append(i[0])\n",
    "print(r_clus)\n",
    "adjust = []\n",
    "for i in r_clus:\n",
    "    x, y = 0,0\n",
    "    for p in r_clus[i]:\n",
    "        x += p[0]\n",
    "        y += p[1]\n",
    "    adjust.append((x/float(len(p)), y/float(len(p))))\n",
    "adjust"
   ]
  },
  {
   "cell_type": "code",
   "execution_count": 26,
   "metadata": {
    "collapsed": false
   },
   "outputs": [
    {
     "name": "stdout",
     "output_type": "stream",
     "text": [
      "(28, 145) -> (25, 125)\n",
      "(65, 140) -> (44, 105)\n",
      "(50, 130) -> (25, 125)\n",
      "(55, 118) -> (44, 105)\n",
      "(38, 115) -> (44, 105)\n",
      "(50, 90) -> (44, 105)\n",
      "(63, 88) -> (44, 105)\n",
      "(43, 83) -> (29, 97)\n",
      "(50, 60) -> (55, 63)\n",
      "(50, 30) -> (55, 20)\n"
     ]
    }
   ],
   "source": [
    "puntos = [((28, 145), False), ((65,140), False), ((50, 130), False), ((25, 125), True), ((55, 118), False), ((38, 115), False), ((44, 105), True), ((29, 97), True), ((50, 90), False), ((63, 88), False), ((43, 83), False), ((35, 63), True), ((55, 63), True), ((50, 60), False), ((42, 57), True), ((23, 40), True), ((64, 37), True), ((50, 30), False), ((33, 22), True), ((55, 20), True)]\n",
    "\n",
    "for (p, clusteroide) in puntos:\n",
    "    if not clusteroide:\n",
    "        cercano = min([p2 for (p2,c2) in puntos if p2 != p and c2], key=lambda p2: (p2[0] - p[0])**2 + (p2[1] - p[1])** 2)\n",
    "        print(\"{} -> {}\".format(p, cercano))"
   ]
  },
  {
   "cell_type": "code",
   "execution_count": 29,
   "metadata": {
    "collapsed": true
   },
   "outputs": [],
   "source": [
    "# 2\n",
    "p = {\"a\": (1,6), \"b\": (3,7), \"c\": (4,3), \"d\": (7,7), \"e\": (8,2), \"f\": (9,5)}\n"
   ]
  },
  {
   "cell_type": "code",
   "execution_count": null,
   "metadata": {
    "collapsed": true
   },
   "outputs": [],
   "source": []
  }
 ],
 "metadata": {
  "kernelspec": {
   "display_name": "Python 3",
   "language": "python",
   "name": "python3"
  },
  "language_info": {
   "codemirror_mode": {
    "name": "ipython",
    "version": 3
   },
   "file_extension": ".py",
   "mimetype": "text/x-python",
   "name": "python",
   "nbconvert_exporter": "python",
   "pygments_lexer": "ipython3",
   "version": "3.4.3"
  }
 },
 "nbformat": 4,
 "nbformat_minor": 1
}
